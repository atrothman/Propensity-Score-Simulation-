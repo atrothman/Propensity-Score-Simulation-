{
 "cells": [
  {
   "cell_type": "code",
   "execution_count": 1,
   "metadata": {},
   "outputs": [],
   "source": [
    "####################\n",
    "## load libraries ##\n",
    "####################\n",
    "import numpy as np\n",
    "import pandas as pd\n",
    "np.random.seed(123456789)\n",
    "import statsmodels.api as sm\n",
    "import statsmodels.formula.api as smf"
   ]
  },
  {
   "cell_type": "code",
   "execution_count": 2,
   "metadata": {},
   "outputs": [],
   "source": [
    "######################################\n",
    "## function to simulate toy dataset ##\n",
    "######################################\n",
    "def simulate_df(n, A_on_Y, seed=123456):\n",
    "    np.random.seed(seed)\n",
    "    ## specify dataframe\n",
    "    df = pd.DataFrame()\n",
    "\n",
    "    ## specify variables L1 through L6\n",
    "    L1_split = 0.52\n",
    "    L2_split = 0.23\n",
    "    L3_split = 0.38\n",
    "    df['L1'] = np.random.choice([0, 1], size=n, replace=True, p=[L1_split, (1-L1_split)])\n",
    "    df['L2'] = np.random.choice([0, 1], size=n, replace=True, p=[L2_split, (1-L2_split)])\n",
    "    df['L3'] = np.random.choice([0, 1], size=n, replace=True, p=[L3_split, (1-L3_split)])\n",
    "    df['L4'] = np.random.normal(0, 1, df.shape[0])\n",
    "    df['L5'] = np.random.normal(0, 0.75, df.shape[0])\n",
    "    df['L6'] = np.random.normal(0, 2, df.shape[0])\n",
    "\n",
    "    ## specify intervention A\n",
    "    beta_0 = 1.2\n",
    "    beta_1 = -2.56\n",
    "    beta_2 = -1.78\n",
    "    beta_3 = 3.52\n",
    "    beta_4 = 0.98\n",
    "    beta_5 = -2.17\n",
    "    beta_6 = 1.52\n",
    "    Z = beta_0 + (beta_1*df['L1']) + (beta_2*df['L2']) + (beta_3*df['L3']) + (beta_4*df['L4']) + (beta_5*df['L5']) + (beta_6*df['L6'])\n",
    "    p = 1 / (1 + np.exp(-Z))\n",
    "    df['A'] = np.random.binomial(1, p)\n",
    "    \n",
    "    ## specify outcome Y\n",
    "    theta_0 = -0.5\n",
    "    theta_1 = A_on_Y\n",
    "    theta_2 = 2.38\n",
    "    theta_3 = 1.42\n",
    "    theta_4 = 4.32\n",
    "    theta_5 = -2.15\n",
    "    theta_6 = 1.12\n",
    "    theta_7 = -2.29\n",
    "    df['Y'] = theta_0 + (theta_1*df['A']) + (theta_2*df['L1']) + (theta_3*df['L2']) + (theta_4*df['L3']) + (theta_5*df['L4']) + (theta_6*df['L5']) + (theta_7*df['L6']) + np.random.normal(0, 1, df.shape[0])\n",
    "    \n",
    "    return(df)"
   ]
  },
  {
   "cell_type": "code",
   "execution_count": 3,
   "metadata": {},
   "outputs": [],
   "source": [
    "#########################################################\n",
    "## function for univariate regression of outcome model ##\n",
    "#########################################################\n",
    "def unadjusted_regression(df):\n",
    "    model_unadjusted = smf.ols('Y ~ A', data=df).fit()\n",
    "    print(model_unadjusted.summary())"
   ]
  },
  {
   "cell_type": "code",
   "execution_count": 4,
   "metadata": {},
   "outputs": [],
   "source": [
    "##############################################################################\n",
    "## function for multivariate regression of outcome model, conditioning on L ##\n",
    "##############################################################################\n",
    "def adjusted_regression_L(df):\n",
    "    model_adjusted_L = smf.ols('Y ~ A + L1 + L2 + L3 + L4 + L5 + L6', data=df).fit()\n",
    "    print(model_adjusted_L.summary())"
   ]
  },
  {
   "cell_type": "code",
   "execution_count": 5,
   "metadata": {},
   "outputs": [],
   "source": [
    "#############################################################################################\n",
    "## function for multivariate regression of outcome model, conditioning on Propensity Score ##\n",
    "#############################################################################################\n",
    "def adjusted_regression_PS(df):\n",
    "    model_PS = smf.glm('A ~ L1 + L2 + L3 + L4 + L5 + L6', data=df, family=sm.families.Binomial()).fit()\n",
    "    df['PS'] = model_PS.predict(df)\n",
    "    model_adjusted_PS = smf.ols('Y ~ A + PS', data=df).fit()\n",
    "    print(model_adjusted_PS.summary())"
   ]
  },
  {
   "cell_type": "code",
   "execution_count": 6,
   "metadata": {},
   "outputs": [],
   "source": [
    "## simulate toy dataset with n=100k, with the Causal Effect Difference of A on Y equal to 2.3\n",
    "df = simulate_df(n=100000, A_on_Y=2.3, seed=10815657)"
   ]
  },
  {
   "cell_type": "code",
   "execution_count": 7,
   "metadata": {},
   "outputs": [
    {
     "name": "stdout",
     "output_type": "stream",
     "text": [
      "                            OLS Regression Results                            \n",
      "==============================================================================\n",
      "Dep. Variable:                      Y   R-squared:                       0.083\n",
      "Model:                            OLS   Adj. R-squared:                  0.083\n",
      "Method:                 Least Squares   F-statistic:                     9000.\n",
      "Date:                Thu, 07 Oct 2021   Prob (F-statistic):               0.00\n",
      "Time:                        23:37:15   Log-Likelihood:            -3.0514e+05\n",
      "No. Observations:              100000   AIC:                         6.103e+05\n",
      "Df Residuals:                   99998   BIC:                         6.103e+05\n",
      "Df Model:                           1                                         \n",
      "Covariance Type:            nonrobust                                         \n",
      "==============================================================================\n",
      "                 coef    std err          t      P>|t|      [0.025      0.975]\n",
      "------------------------------------------------------------------------------\n",
      "Intercept      7.4737      0.025    302.022      0.000       7.425       7.522\n",
      "A             -3.1027      0.033    -94.869      0.000      -3.167      -3.039\n",
      "==============================================================================\n",
      "Omnibus:                      700.124   Durbin-Watson:                   1.997\n",
      "Prob(Omnibus):                  0.000   Jarque-Bera (JB):              580.449\n",
      "Skew:                          -0.122   Prob(JB):                    9.06e-127\n",
      "Kurtosis:                       2.718   Cond. No.                         2.82\n",
      "==============================================================================\n",
      "\n",
      "Warnings:\n",
      "[1] Standard Errors assume that the covariance matrix of the errors is correctly specified.\n"
     ]
    }
   ],
   "source": [
    "## univariate outcome model regression of Y on A\n",
    "unadjusted_regression(df)"
   ]
  },
  {
   "cell_type": "code",
   "execution_count": 8,
   "metadata": {},
   "outputs": [
    {
     "name": "stdout",
     "output_type": "stream",
     "text": [
      "                            OLS Regression Results                            \n",
      "==============================================================================\n",
      "Dep. Variable:                      Y   R-squared:                       0.965\n",
      "Model:                            OLS   Adj. R-squared:                  0.965\n",
      "Method:                 Least Squares   F-statistic:                 3.958e+05\n",
      "Date:                Thu, 07 Oct 2021   Prob (F-statistic):               0.00\n",
      "Time:                        23:37:36   Log-Likelihood:            -1.4159e+05\n",
      "No. Observations:              100000   AIC:                         2.832e+05\n",
      "Df Residuals:                   99992   BIC:                         2.833e+05\n",
      "Df Model:                           7                                         \n",
      "Covariance Type:            nonrobust                                         \n",
      "==============================================================================\n",
      "                 coef    std err          t      P>|t|      [0.025      0.975]\n",
      "------------------------------------------------------------------------------\n",
      "Intercept     -0.4879      0.010    -48.608      0.000      -0.508      -0.468\n",
      "A              2.3022      0.009    244.523      0.000       2.284       2.321\n",
      "L1             2.3698      0.007    356.401      0.000       2.357       2.383\n",
      "L2             1.4161      0.008    185.406      0.000       1.401       1.431\n",
      "L3             4.3169      0.007    604.664      0.000       4.303       4.331\n",
      "L4            -2.1565      0.003   -663.853      0.000      -2.163      -2.150\n",
      "L5             1.1214      0.005    246.629      0.000       1.112       1.130\n",
      "L6            -2.2910      0.002  -1146.799      0.000      -2.295      -2.287\n",
      "==============================================================================\n",
      "Omnibus:                        0.006   Durbin-Watson:                   1.995\n",
      "Prob(Omnibus):                  0.997   Jarque-Bera (JB):                0.007\n",
      "Skew:                          -0.000   Prob(JB):                        0.996\n",
      "Kurtosis:                       2.999   Cond. No.                         8.65\n",
      "==============================================================================\n",
      "\n",
      "Warnings:\n",
      "[1] Standard Errors assume that the covariance matrix of the errors is correctly specified.\n"
     ]
    }
   ],
   "source": [
    "## multivariate outcome model regression of Y on A & vector L\n",
    "adjusted_regression_L(df)"
   ]
  },
  {
   "cell_type": "code",
   "execution_count": 9,
   "metadata": {},
   "outputs": [
    {
     "name": "stdout",
     "output_type": "stream",
     "text": [
      "                            OLS Regression Results                            \n",
      "==============================================================================\n",
      "Dep. Variable:                      Y   R-squared:                       0.214\n",
      "Model:                            OLS   Adj. R-squared:                  0.214\n",
      "Method:                 Least Squares   F-statistic:                 1.359e+04\n",
      "Date:                Thu, 07 Oct 2021   Prob (F-statistic):               0.00\n",
      "Time:                        23:38:14   Log-Likelihood:            -2.9743e+05\n",
      "No. Observations:              100000   AIC:                         5.949e+05\n",
      "Df Residuals:                   99997   BIC:                         5.949e+05\n",
      "Df Model:                           2                                         \n",
      "Covariance Type:            nonrobust                                         \n",
      "==============================================================================\n",
      "                 coef    std err          t      P>|t|      [0.025      0.975]\n",
      "------------------------------------------------------------------------------\n",
      "Intercept      9.0920      0.026    348.167      0.000       9.041       9.143\n",
      "A              2.3059      0.052     44.613      0.000       2.205       2.407\n",
      "PS            -8.2354      0.064   -129.118      0.000      -8.360      -8.110\n",
      "==============================================================================\n",
      "Omnibus:                     5333.101   Durbin-Watson:                   1.995\n",
      "Prob(Omnibus):                  0.000   Jarque-Bera (JB):             2653.233\n",
      "Skew:                          -0.217   Prob(JB):                         0.00\n",
      "Kurtosis:                       2.330   Cond. No.                         7.09\n",
      "==============================================================================\n",
      "\n",
      "Warnings:\n",
      "[1] Standard Errors assume that the covariance matrix of the errors is correctly specified.\n"
     ]
    }
   ],
   "source": [
    "## calculation of Propensity Score, & multivariate outcome model regression of Y on A & Propensity Score\n",
    "adjusted_regression_PS(df)"
   ]
  }
 ],
 "metadata": {
  "kernelspec": {
   "display_name": "tf_gpu",
   "language": "python",
   "name": "tf_gpu"
  },
  "language_info": {
   "codemirror_mode": {
    "name": "ipython",
    "version": 3
   },
   "file_extension": ".py",
   "mimetype": "text/x-python",
   "name": "python",
   "nbconvert_exporter": "python",
   "pygments_lexer": "ipython3",
   "version": "3.7.4"
  }
 },
 "nbformat": 4,
 "nbformat_minor": 2
}
